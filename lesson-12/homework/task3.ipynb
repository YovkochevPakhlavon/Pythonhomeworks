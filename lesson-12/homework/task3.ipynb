{
 "cells": [
  {
   "cell_type": "code",
   "execution_count": 44,
   "metadata": {},
   "outputs": [],
   "source": [
    "from selenium import webdriver\n",
    "from selenium.webdriver.chrome.options import Options\n",
    "from selenium.webdriver.common.by import By\n",
    "import json"
   ]
  },
  {
   "cell_type": "code",
   "execution_count": 7,
   "metadata": {},
   "outputs": [],
   "source": [
    "#1. **Navigate to the Website:**\n",
    "driver = webdriver.Chrome()\n",
    "driver.get(\"https://www.demoblaze.com/\")\n",
    "button = driver.find_element(By.XPATH, \"/html/body/div[5]/div/div[1]/div/a[3]\") # I have used XPATH to navigate laptop bottom. \n",
    "button.click()\n",
    "#2. **Navigate to the Next Page:**\n",
    "button2 = driver.find_element(By.ID, \"next2\") #Now, I have used ID to find next buttom.\n",
    "button2.click()"
   ]
  },
  {
   "cell_type": "code",
   "execution_count": 42,
   "metadata": {},
   "outputs": [],
   "source": [
    "#3. **Data to Scrape:**\n",
    "laptops_data = []\n",
    "laptops= driver.find_elements(By.CLASS_NAME, \"card-block\")\n",
    "for laptop in laptops:\n",
    "    name = laptop.find_element(By.CLASS_NAME, \"card-title\").text\n",
    "    price = laptop.find_element(By.TAG_NAME, 'h5').text\n",
    "    description = laptop.find_element(By.ID, \"article\").text\n",
    "    laptops_data.append({\"name\":name, \"price\": price, \"description\": description})\n"
   ]
  },
  {
   "cell_type": "code",
   "execution_count": 45,
   "metadata": {},
   "outputs": [],
   "source": [
    "#4. Data Storage:\n",
    "with open('laptops.json','w') as file:\n",
    "    json.dump(laptops_data, file, indent=4) "
   ]
  },
  {
   "cell_type": "code",
   "execution_count": null,
   "metadata": {},
   "outputs": [],
   "source": []
  }
 ],
 "metadata": {
  "kernelspec": {
   "display_name": "base",
   "language": "python",
   "name": "python3"
  },
  "language_info": {
   "codemirror_mode": {
    "name": "ipython",
    "version": 3
   },
   "file_extension": ".py",
   "mimetype": "text/x-python",
   "name": "python",
   "nbconvert_exporter": "python",
   "pygments_lexer": "ipython3",
   "version": "3.11.5"
  }
 },
 "nbformat": 4,
 "nbformat_minor": 2
}
