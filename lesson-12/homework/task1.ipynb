{
 "cells": [
  {
   "cell_type": "code",
   "execution_count": null,
   "metadata": {},
   "outputs": [],
   "source": [
    "#1. **Parse the HTML File**:\n",
    "from bs4 import BeautifulSoup\n",
    "file_name = 'weather.html'\n",
    "with open(file_name,'r') as file:\n",
    "    data = BeautifulSoup(file)\n",
    "\n",
    "print(data.get_text())"
   ]
  },
  {
   "cell_type": "code",
   "execution_count": 63,
   "metadata": {},
   "outputs": [
    {
     "name": "stdout",
     "output_type": "stream",
     "text": [
      "On Monday, temperature is 25°C and condition is Sunny.\n",
      "On Tuesday, temperature is 22°C and condition is Cloudy.\n",
      "On Wednesday, temperature is 18°C and condition is Rainy.\n",
      "On Thursday, temperature is 20°C and condition is Partly Cloudy.\n",
      "On Friday, temperature is 30°C and condition is Sunny.\n"
     ]
    }
   ],
   "source": [
    "#2. **Display Weather Data**:\n",
    "weather_table = []\n",
    "j=0\n",
    "for i in data.find_all('td'):\n",
    "    weather_table.append(i.text)\n",
    "while j < len(weather_table):\n",
    "    print(f'On {weather_table[j]}, temperature is {weather_table[j+1]} and condition is {weather_table[j+2]}.')\n",
    "    j += 3"
   ]
  },
  {
   "cell_type": "code",
   "execution_count": 75,
   "metadata": {},
   "outputs": [
    {
     "name": "stdout",
     "output_type": "stream",
     "text": [
      "The highest temperature, which is 30°C, will be on Friday.\n"
     ]
    }
   ],
   "source": [
    "#3. **Find Specific Data**:\n",
    "weather = {}\n",
    "j = 0\n",
    "while j < len(weather_table):\n",
    "    weather[weather_table[j]] = (int(weather_table[j+1][:-2]),weather_table[j+2])\n",
    "    j += 3\n",
    "day = [k for k,v in weather.items() if v == max(weather.values())] # To find which day has the highest temperature\n",
    "for i in day:\n",
    "    print(f'The highest temperature, which is {max(weather.values())[0]}°C, will be on {i}.') "
   ]
  },
  {
   "cell_type": "code",
   "execution_count": 79,
   "metadata": {},
   "outputs": [
    {
     "name": "stdout",
     "output_type": "stream",
     "text": [
      "Monday is Sunny day!\n",
      "Friday is Sunny day!\n"
     ]
    }
   ],
   "source": [
    "#The \"Sunny\" condition.\n",
    "days = [k for k,v in weather.items() if v[1] == 'Sunny'] # To find which days are Sunny.\n",
    "for i in days:\n",
    "    print(f'{i} is Sunny day!')"
   ]
  },
  {
   "cell_type": "code",
   "execution_count": 87,
   "metadata": {},
   "outputs": [
    {
     "name": "stdout",
     "output_type": "stream",
     "text": [
      "Average temperature for the week is 23.0°C.\n"
     ]
    }
   ],
   "source": [
    "#4. **Calculate Average Temperature**:\n",
    "all_temp = [v[0] for v in weather.values()]\n",
    "ave_temp = sum(all_temp)/len(all_temp)\n",
    "print(f\"Average temperature for the week is {round(ave_temp,2)}°C.\")"
   ]
  },
  {
   "cell_type": "code",
   "execution_count": null,
   "metadata": {},
   "outputs": [],
   "source": []
  }
 ],
 "metadata": {
  "kernelspec": {
   "display_name": "Python 3",
   "language": "python",
   "name": "python3"
  },
  "language_info": {
   "codemirror_mode": {
    "name": "ipython",
    "version": 3
   },
   "file_extension": ".py",
   "mimetype": "text/x-python",
   "name": "python",
   "nbconvert_exporter": "python",
   "pygments_lexer": "ipython3",
   "version": "3.9.6"
  }
 },
 "nbformat": 4,
 "nbformat_minor": 2
}
