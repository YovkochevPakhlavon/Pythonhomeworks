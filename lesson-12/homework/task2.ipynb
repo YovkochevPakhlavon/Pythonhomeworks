{
 "cells": [
  {
   "cell_type": "code",
   "execution_count": 124,
   "metadata": {},
   "outputs": [],
   "source": [
    "import sqlite3\n",
    "import requests\n",
    "import csv\n",
    "from bs4 import BeautifulSoup"
   ]
  },
  {
   "cell_type": "code",
   "execution_count": 82,
   "metadata": {},
   "outputs": [],
   "source": [
    "#Requesting html file and reading it:\n",
    "file = requests.get('https://realpython.github.io/fake-jobs')\n",
    "data = BeautifulSoup(file.content)"
   ]
  },
  {
   "cell_type": "code",
   "execution_count": 111,
   "metadata": {},
   "outputs": [],
   "source": [
    "#1. **Scraping Requirements**:\n",
    "job_listings = []\n",
    "jobs = data.find_all('div',class_ = \"card-content\")\n",
    "for job in jobs:\n",
    "    title = job.find('h2').text\n",
    "    company = job.find('h3').text\n",
    "    location = job.find(class_=\"location\").text.strip()\n",
    "    #to scrap job description, we need to request for html file using job application link.\n",
    "    applicattion_link = job.find_all('a',class_=\"card-footer-item\")[1]['href']\n",
    "    soup = BeautifulSoup(requests.get(applicattion_link).content)\n",
    "    description = soup.find(class_='content').find('p').text.strip()\n",
    "    job_listings.append((title,company,location,description,applicattion_link))"
   ]
  },
  {
   "cell_type": "code",
   "execution_count": 115,
   "metadata": {},
   "outputs": [
    {
     "name": "stdout",
     "output_type": "stream",
     "text": [
      "Table created successfully!\n"
     ]
    }
   ],
   "source": [
    "#2. **Data Storage**:\n",
    "db_name = 'jobs.db'\n",
    "with sqlite3.connect(db_name) as conn:\n",
    "    cursor = conn.cursor()\n",
    "    cursor.execute('DROP TABLE IF EXISTS jobs')\n",
    "    \n",
    "    # Creating the jobs table\n",
    "    cursor.execute(\"\"\"\n",
    "    CREATE TABLE jobs (\n",
    "        id INTEGER PRIMARY KEY AUTOINCREMENT,\n",
    "        title TEXT NOT NULL,\n",
    "        company TEXT NOT NULL,\n",
    "        location TEXT NOT NULL,\n",
    "        description TEXT,\n",
    "        link TEXT,\n",
    "        UNIQUE(title, company, location)\n",
    "    );\n",
    "    \"\"\")\n",
    "\n",
    "print(\"Table created successfully!\")"
   ]
  },
  {
   "cell_type": "code",
   "execution_count": null,
   "metadata": {},
   "outputs": [],
   "source": [
    "#3. Store the scraped data into an SQLite database:\n",
    "#Insert new jobs and update existing ones if details change:\n",
    "for title, company, location, description, link in job_listings:\n",
    "    cursor.execute(\"SELECT description, link FROM jobs WHERE title = ? AND company = ? AND location = ?\",(title,company,location))\n",
    "    existing_job = cursor.fetchone()\n",
    "    if existing_job:\n",
    "       #4.Check if description or application link has changed\n",
    "       if existing_job[0] != description or existing_job[1] != link:\n",
    "           cursor.execute(\"UPDATE jobs SET description = ? AND link = ? WHERE title = ? AND company = ? AND location = ?\",(description,link,title,company,location))\n",
    "    else:\n",
    "        cursor.execute(\"INSERT INTO jobs (title,company,location,description,link) Values(?,?,?,?,?);\",(title,company,location,description,link))\n",
    "conn.commit()       "
   ]
  },
  {
   "cell_type": "code",
   "execution_count": 144,
   "metadata": {},
   "outputs": [],
   "source": [
    "#5. **Filtering and Exporting**:\n",
    "def filter_export(location=None,company=None):\n",
    "    with sqlite3.connect(db_name) as conn:\n",
    "        cursor = conn.cursor()\n",
    "        query = \"SELECT title, company, location, description, link FROM jobs WHERE 1=1\"\n",
    "        params = []\n",
    "    \n",
    "        if location:\n",
    "            query += \" AND location LIKE ?\"\n",
    "            params.append(f\"%{location}%\")\n",
    "        if company:\n",
    "            query += \" AND company LIKE ?\"\n",
    "            params.append(f\"%{company}%\")\n",
    "\n",
    "        cursor.execute(query, params)\n",
    "        results = cursor.fetchall()\n",
    "        filename = 'filtered_results.csv'\n",
    "        with open(filename, mode=\"w\", newline=\"\", encoding=\"utf-8\") as file:\n",
    "            writer = csv.writer(file)\n",
    "            writer.writerow([\"Title\", \"Company\", \"Location\", \"Description\", \"Application Link\"])\n",
    "            writer.writerows(results)\n",
    "    return results"
   ]
  },
  {
   "cell_type": "code",
   "execution_count": 146,
   "metadata": {},
   "outputs": [
    {
     "name": "stdout",
     "output_type": "stream",
     "text": [
      "Do you want to filter jobs by location or company name?\n",
      "Jobs found successfully! Please check the new CSV file!\n"
     ]
    }
   ],
   "source": [
    "# Let's ask the user to filter jobs\n",
    "print(\"Do you want to filter jobs by location or company name?\")\n",
    "choice = int(input(\"Please choose 1 for location or 2 for company name: \"))\n",
    "\n",
    "if choice == 1:\n",
    "    loc = input(\"Please enter location: \")\n",
    "    filtered_jobs = filter_export(location=loc)  # Assuming this function filters and exports\n",
    "    if filtered_jobs:\n",
    "        print(\"Jobs found successfully! Please check the new CSV file.\")\n",
    "    else:\n",
    "        print(\"There are no jobs with the given location.\")\n",
    "\n",
    "elif choice == 2:\n",
    "    com = input(\"Please enter company name: \")\n",
    "    filtered_jobs = filter_export(company=com)\n",
    "    if filtered_jobs:\n",
    "        print(\"Jobs found successfully! Please check the new CSV file!\")\n",
    "    else:\n",
    "        print(\"There is no job with the given company name!\")\n",
    "\n",
    "else:\n",
    "    print(\"Invalid choice! Please enter 1 or 2.\")\n"
   ]
  },
  {
   "cell_type": "code",
   "execution_count": null,
   "metadata": {},
   "outputs": [],
   "source": []
  }
 ],
 "metadata": {
  "kernelspec": {
   "display_name": "Python 3",
   "language": "python",
   "name": "python3"
  },
  "language_info": {
   "name": "python",
   "version": "3.9.6"
  }
 },
 "nbformat": 4,
 "nbformat_minor": 2
}
