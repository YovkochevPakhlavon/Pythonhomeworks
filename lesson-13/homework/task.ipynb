{
 "cells": [
  {
   "cell_type": "code",
   "execution_count": 2,
   "metadata": {},
   "outputs": [],
   "source": [
    "import numpy as np"
   ]
  },
  {
   "cell_type": "code",
   "execution_count": 3,
   "metadata": {},
   "outputs": [],
   "source": [
    "#1. Create a vector with values ranging from 10 to 49.\n",
    "vec = np.arange(10,50,1)"
   ]
  },
  {
   "cell_type": "code",
   "execution_count": 10,
   "metadata": {},
   "outputs": [],
   "source": [
    "#2. Create a 3x3 matrix with values ranging from 0 to 8.\n",
    "mat33 = np.arange(9).reshape(3, 3)"
   ]
  },
  {
   "cell_type": "code",
   "execution_count": 20,
   "metadata": {},
   "outputs": [],
   "source": [
    "#3. Create a 3x3 identity matrix.\n",
    "i33 = np.eye(3,dtype=int)"
   ]
  },
  {
   "cell_type": "code",
   "execution_count": 19,
   "metadata": {},
   "outputs": [],
   "source": [
    "#4. Create a 3x3x3 array with random values.\n",
    "v333 = np.random.rand(3, 3, 3)"
   ]
  },
  {
   "cell_type": "code",
   "execution_count": 69,
   "metadata": {},
   "outputs": [
    {
     "name": "stdout",
     "output_type": "stream",
     "text": [
      "The maximum of the matrix is 0.9897397422735263\n",
      "The minimum of the matrix is 0.004058971134705436\n"
     ]
    }
   ],
   "source": [
    "#5. Create a 10x10 array with random values and find the minimum and maximum values.\n",
    "a1010 = np.random.rand(10,10)\n",
    "print(f'The maximum of the matrix is {a1010.max()}')\n",
    "print(f'The minimum of the matrix is {a1010.min()}')"
   ]
  },
  {
   "cell_type": "code",
   "execution_count": 28,
   "metadata": {},
   "outputs": [
    {
     "data": {
      "text/plain": [
       "0.4725593911585094"
      ]
     },
     "execution_count": 28,
     "metadata": {},
     "output_type": "execute_result"
    }
   ],
   "source": [
    "#6. Create a random vector of size 30 and find the mean value.\n",
    "v30 = np.random.rand(30)\n",
    "v30.mean()"
   ]
  },
  {
   "cell_type": "code",
   "execution_count": 30,
   "metadata": {},
   "outputs": [],
   "source": [
    "#7. Normalize a 5x5 random matrix.\n",
    "a55 = np.random.rand(5,5)\n",
    "# Find the minimum and maximum values\n",
    "a55_min, a55_max = a55.min(), a55.max()\n",
    "# Normalize the matrix using Min-Max scaling\n",
    "a55_normalized = (a55 - a55_min) / (a55_max - a55_min)"
   ]
  },
  {
   "cell_type": "code",
   "execution_count": 35,
   "metadata": {},
   "outputs": [
    {
     "data": {
      "text/plain": [
       "array([[ 10,  13],\n",
       "       [ 28,  40],\n",
       "       [ 46,  67],\n",
       "       [ 64,  94],\n",
       "       [ 82, 121]])"
      ]
     },
     "execution_count": 35,
     "metadata": {},
     "output_type": "execute_result"
    }
   ],
   "source": [
    "#8. Multiply a 5x3 matrix by a 3x2 matrix (real matrix product).\n",
    "m53 = np.arange(15).reshape(5,3)\n",
    "m32 = np.arange(6).reshape(3,2)\n",
    "np.dot(m53,m32) #or m53 @ m32"
   ]
  },
  {
   "cell_type": "code",
   "execution_count": 38,
   "metadata": {},
   "outputs": [
    {
     "data": {
      "text/plain": [
       "array([[ 42,  45,  48],\n",
       "       [150, 162, 174],\n",
       "       [258, 279, 300]])"
      ]
     },
     "execution_count": 38,
     "metadata": {},
     "output_type": "execute_result"
    }
   ],
   "source": [
    "#9. Create two 3x3 matrices and compute their dot product.\n",
    "m33 = np.arange(9).reshape(3,3)\n",
    "mm33 = np.arange(9,18).reshape(3,3)\n",
    "m33 @ mm33"
   ]
  },
  {
   "cell_type": "code",
   "execution_count": 46,
   "metadata": {},
   "outputs": [
    {
     "name": "stdout",
     "output_type": "stream",
     "text": [
      "Given a 4x4 matrix : [[0.31685992 0.882229   0.61025101 0.31254836]\n",
      " [0.11352003 0.02427011 0.43618509 0.18677391]\n",
      " [0.06004737 0.81248347 0.34210113 0.32434871]\n",
      " [0.31560195 0.49208944 0.08945557 0.25377617]]\n",
      "------------------\n",
      "Its transpose: [[0.31685992 0.11352003 0.06004737 0.31560195]\n",
      " [0.882229   0.02427011 0.81248347 0.49208944]\n",
      " [0.61025101 0.43618509 0.34210113 0.08945557]\n",
      " [0.31254836 0.18677391 0.32434871 0.25377617]]\n"
     ]
    }
   ],
   "source": [
    "#10. Given a 4x4 matrix, find its transpose.  \n",
    "m44 = np.random.rand(4,4)\n",
    "print(f'Given a 4x4 matrix : {m44}') #Given a 4x4 matrix \n",
    "print('------------------')\n",
    "print(f'Its transpose: {m44.T}')  #its transpose"
   ]
  },
  {
   "cell_type": "code",
   "execution_count": 53,
   "metadata": {},
   "outputs": [
    {
     "name": "stdout",
     "output_type": "stream",
     "text": [
      "Matrix:\n",
      " [[7 7 4]\n",
      " [5 9 2]\n",
      " [8 5 5]]\n",
      "Determinant: -5.999999999999997\n"
     ]
    }
   ],
   "source": [
    "#11. Create a 3x3 matrix and calculate its determinant. \n",
    "m33 = np.random.randint(1, 10, (3, 3)) \n",
    "print(\"Matrix:\\n\", m33)\n",
    "print(\"Determinant:\", np.linalg.det(m33))"
   ]
  },
  {
   "cell_type": "code",
   "execution_count": 57,
   "metadata": {},
   "outputs": [
    {
     "name": "stdout",
     "output_type": "stream",
     "text": [
      "A matrix:\n",
      " [[1 5 5 3]\n",
      " [6 6 5 8]\n",
      " [4 1 9 1]]\n",
      "B matrix:\n",
      " [[8 2 1]\n",
      " [6 1 8]\n",
      " [7 1 9]\n",
      " [5 3 7]]\n",
      "The matrix product of A and B is:\n",
      " [[ 88  21 107]\n",
      " [159  47 155]\n",
      " [106  21 100]]\n"
     ]
    }
   ],
   "source": [
    "#12. Create two matrices \\( A \\) (3x4) and \\( B \\) (4x3), and compute the matrix product \\( A \\cdot B \\).  \n",
    "A = np.random.randint(1, 10, (3, 4)) # A(3x4)matrix\n",
    "B = np.random.randint(1, 10, (4, 3)) # B(4x3)matrix\n",
    "print('A matrix:\\n',A)\n",
    "print('B matrix:\\n',B)\n",
    "print('The matrix product of A and B is:\\n',A @ B)"
   ]
  },
  {
   "cell_type": "code",
   "execution_count": 65,
   "metadata": {},
   "outputs": [
    {
     "name": "stdout",
     "output_type": "stream",
     "text": [
      "3x3 random matrix:\n",
      " [[6 8 1]\n",
      " [8 8 9]\n",
      " [8 5 8]]\n",
      "3-element column vector:\n",
      " [[4]\n",
      " [2]\n",
      " [6]]\n",
      "matrix-vector product:\n",
      " [[ 46]\n",
      " [102]\n",
      " [ 90]]\n"
     ]
    }
   ],
   "source": [
    "#13. Create a 3x3 random matrix and a 3-element column vector. Compute the matrix-vector product. \n",
    "m33 = np.random.randint(1, 10, (3, 3)) \n",
    "v3 = np.random.randint(1, 10, (3,1))\n",
    "print('3x3 random matrix:\\n',m33)\n",
    "print('3-element column vector:\\n',v3)\n",
    "print('matrix-vector product:\\n',m33 @ v3)"
   ]
  },
  {
   "cell_type": "code",
   "execution_count": 3,
   "metadata": {},
   "outputs": [
    {
     "name": "stdout",
     "output_type": "stream",
     "text": [
      "A matrix:\n",
      " [[6 8 3]\n",
      " [1 9 1]\n",
      " [2 5 8]]\n",
      "b vector:\n",
      " [[5]\n",
      " [5]\n",
      " [4]]\n",
      "The solution:\n",
      " [[0.04444444]\n",
      " [0.53333333]\n",
      " [0.15555556]]\n"
     ]
    }
   ],
   "source": [
    "#14. Solve the linear system \\( Ax = b \\) where \\( A \\) is a 3x3 matrix, and \\( b \\) is a 3x1 column vector.  \n",
    "A = np.random.randint(1, 10, (3, 3)) # A(3x3)matrix\n",
    "b = np.random.randint(1, 10, (3,1)) #b(3x1) vector\n",
    "x = np.linalg.solve(A,b)\n",
    "print('A matrix:\\n',A)\n",
    "print('b vector:\\n',b)\n",
    "print('The solution:\\n',x)"
   ]
  },
  {
   "cell_type": "code",
   "execution_count": 67,
   "metadata": {},
   "outputs": [
    {
     "name": "stdout",
     "output_type": "stream",
     "text": [
      "5x5 matrix:\n",
      " [[6 8 4 6 1]\n",
      " [7 5 9 8 5]\n",
      " [3 4 5 4 3]\n",
      " [8 7 7 8 7]\n",
      " [6 4 7 4 8]]\n",
      "Row-wise sum:\n",
      " [25 34 19 37 29]\n",
      "Column-wise sum:\n",
      " [30 28 32 30 24]\n"
     ]
    }
   ],
   "source": [
    "#15. Given a 5x5 matrix, find the row-wise and column-wise sums.\n",
    "m55 = np.random.randint(1, 10, (5, 5)) # m55(5x5)matrix\n",
    "print('5x5 matrix:\\n',m55)\n",
    "print('Row-wise sum:\\n',m55.sum(axis=1))\n",
    "print('Column-wise sum:\\n',m55.sum(axis=0))\n"
   ]
  },
  {
   "cell_type": "code",
   "execution_count": null,
   "metadata": {},
   "outputs": [],
   "source": []
  }
 ],
 "metadata": {
  "kernelspec": {
   "display_name": "base",
   "language": "python",
   "name": "python3"
  },
  "language_info": {
   "codemirror_mode": {
    "name": "ipython",
    "version": 3
   },
   "file_extension": ".py",
   "mimetype": "text/x-python",
   "name": "python",
   "nbconvert_exporter": "python",
   "pygments_lexer": "ipython3",
   "version": "3.11.5"
  }
 },
 "nbformat": 4,
 "nbformat_minor": 2
}
