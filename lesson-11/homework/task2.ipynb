{
 "cells": [
  {
   "cell_type": "code",
   "execution_count": 1,
   "metadata": {},
   "outputs": [],
   "source": [
    "import sqlite3\n",
    "\n",
    "#1. **Database Creation**:\n",
    "with sqlite3.connect(\"library.db\") as connection:\n",
    "    cursor = connection.cursor()\n",
    "    cursor.execute(\"DROP TABLE IF EXISTS Books\")\n",
    "    cursor.execute(\"\"\"\n",
    "    CREATE TABLE Books(\n",
    "        Title TEXT,\n",
    "        Author TEXT,\n",
    "        Year_Published INTEGER,\n",
    "        Genre TEXT);\n",
    "\"\"\")"
   ]
  },
  {
   "cell_type": "code",
   "execution_count": 2,
   "metadata": {},
   "outputs": [],
   "source": [
    "#2. **Insert Data**:\n",
    "values = (\n",
    "    ('To Kill a Mockingbird','Harper Lee',1960,'Fiction'),\n",
    "    ('1984','George Orwell',1949,'Dystopian'),\n",
    "    ('The Great Gatsby','F. Scott Fitzgerald',1925,'Classic'),\n",
    ")\n",
    "cursor.executemany(\"INSERT INTO Books Values(?,?,?,?);\",values)\n",
    "connection.commit()"
   ]
  },
  {
   "cell_type": "code",
   "execution_count": 7,
   "metadata": {},
   "outputs": [],
   "source": [
    "#3. **Update Data**:\n",
    "cursor.execute(\"UPDATE Books SET Year_Published = 1950 where Title ='1984'\")\n",
    "connection.commit()"
   ]
  },
  {
   "cell_type": "code",
   "execution_count": 8,
   "metadata": {},
   "outputs": [
    {
     "data": {
      "text/plain": [
       "[('1984', 'George Orwell')]"
      ]
     },
     "execution_count": 8,
     "metadata": {},
     "output_type": "execute_result"
    }
   ],
   "source": [
    "#4. **Query Data**:\n",
    "data = cursor.execute(\"SELECT Title, Author FROM Books where Genre = 'Dystopian'\")\n",
    "data.fetchall()"
   ]
  },
  {
   "cell_type": "code",
   "execution_count": 9,
   "metadata": {},
   "outputs": [],
   "source": [
    "#5. **Delete Data**:\n",
    "cursor.execute(\"DELETE FROM Books where Year_Published < 1950\")\n",
    "connection.commit()"
   ]
  },
  {
   "cell_type": "code",
   "execution_count": 10,
   "metadata": {},
   "outputs": [],
   "source": [
    "#Inserting back removed data:\n",
    "cursor.execute(\"INSERT INTO Books Values('The Great Gatsby','F. Scott Fitzgerald',1925,'Classic');\")\n",
    "connection.commit()"
   ]
  },
  {
   "cell_type": "code",
   "execution_count": 11,
   "metadata": {},
   "outputs": [],
   "source": [
    "#6. **Bonus Task**:\n",
    "cursor.execute(\"ALTER TABLE Books ADD column Rating INTEGER\")\n",
    "cursor.execute(\"UPDATE Books SET Rating = 4.8 WHERE Title = 'To Kill a Mockingbird'\")\n",
    "cursor.execute(\"UPDATE Books SET Rating = 4.7 WHERE Title = '1984'\")\n",
    "cursor.execute(\"UPDATE Books SET Rating = 4.5 WHERE Title = 'The Great Gatsby'\")\n",
    "connection.commit()"
   ]
  },
  {
   "cell_type": "code",
   "execution_count": 12,
   "metadata": {},
   "outputs": [
    {
     "data": {
      "text/plain": [
       "[('The Great Gatsby', 'F. Scott Fitzgerald', 1925, 'Classic', 4.5),\n",
       " ('1984', 'George Orwell', 1950, 'Dystopian', 4.7),\n",
       " ('To Kill a Mockingbird', 'Harper Lee', 1960, 'Fiction', 4.8)]"
      ]
     },
     "execution_count": 12,
     "metadata": {},
     "output_type": "execute_result"
    }
   ],
   "source": [
    "#7. **Advanced Query**:\n",
    "data1 = cursor.execute(\"SELECT * FROM Books order by Year_Published asc\")\n",
    "data1.fetchall()"
   ]
  }
 ],
 "metadata": {
  "kernelspec": {
   "display_name": "Python 3",
   "language": "python",
   "name": "python3"
  },
  "language_info": {
   "codemirror_mode": {
    "name": "ipython",
    "version": 3
   },
   "file_extension": ".py",
   "mimetype": "text/x-python",
   "name": "python",
   "nbconvert_exporter": "python",
   "pygments_lexer": "ipython3",
   "version": "3.9.6"
  }
 },
 "nbformat": 4,
 "nbformat_minor": 2
}
