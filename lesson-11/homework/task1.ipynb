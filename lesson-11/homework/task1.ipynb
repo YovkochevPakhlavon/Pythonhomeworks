{
 "cells": [
  {
   "cell_type": "code",
   "execution_count": 31,
   "metadata": {},
   "outputs": [],
   "source": [
    "import sqlite3\n",
    "values = (\n",
    "    ('Benjamin Sisko','Human',40),\n",
    "    ('Jadzia Dax','Trill',300),\n",
    "    ('Kira Nerys','Bajoran',29),    \n",
    ")\n",
    "#1,2. **Database Creation and Inserting Data**:\n",
    "with sqlite3.connect('roster.db') as connection:\n",
    "    cursor = connection.cursor()\n",
    "    cursor.execute(\"DROP TABLE IF EXISTS Roster\")\n",
    "    cursor.execute(\"\"\"\n",
    "        CREATE TABLE Roster(\n",
    "        Name TEXT,\n",
    "        Species TEXT,\n",
    "        Age INTEGER);\"\"\"\n",
    "        )\n",
    "    cursor.executemany(\"INSERT INTO Roster VALUES(?,?,?);\",values)"
   ]
  },
  {
   "cell_type": "code",
   "execution_count": 32,
   "metadata": {},
   "outputs": [],
   "source": [
    "#3. **Update Data**:\n",
    "query = \"UPDATE Roster SET Name = 'Ezri Dax' where Name is 'Jadzia Dax' \"\n",
    "cursor.execute(query)\n",
    "connection.commit()"
   ]
  },
  {
   "cell_type": "code",
   "execution_count": 33,
   "metadata": {},
   "outputs": [
    {
     "data": {
      "text/plain": [
       "[('Kira Nerys', 29)]"
      ]
     },
     "execution_count": 33,
     "metadata": {},
     "output_type": "execute_result"
    }
   ],
   "source": [
    "#4. **Query Data**:\n",
    "data = cursor.execute(\"SELECT Name, Age from Roster where Species is 'Bajoran'\")\n",
    "data.fetchall()\n"
   ]
  },
  {
   "cell_type": "code",
   "execution_count": 34,
   "metadata": {},
   "outputs": [],
   "source": [
    "#5. **Delete Data**:\n",
    "cursor.execute(\"DELETE FROM Roster WHERE age > 100\")\n",
    "connection.commit()"
   ]
  },
  {
   "cell_type": "code",
   "execution_count": 35,
   "metadata": {},
   "outputs": [
    {
     "data": {
      "text/plain": [
       "<sqlite3.Cursor at 0x1086c01f0>"
      ]
     },
     "execution_count": 35,
     "metadata": {},
     "output_type": "execute_result"
    }
   ],
   "source": [
    "cursor.execute(\"INSERT INTO Roster VALUES('Ezri Dax','Trill',300)\") #Inserting again into the table"
   ]
  },
  {
   "cell_type": "code",
   "execution_count": 36,
   "metadata": {},
   "outputs": [],
   "source": [
    "#6. **Bonus Task**:\n",
    "cursor.execute(\"ALTER TABLE Roster ADD column Rank TEXT\")\n",
    "cursor.execute(\"UPDATE Roster SET Rank = 'Captain' where name is 'Benjamin Sisko'\")\n",
    "cursor.execute(\"UPDATE Roster SET Rank = 'Lieutenant' where name is 'Ezri Dax'\")\n",
    "cursor.execute(\"UPDATE Roster SET Rank = 'Major' where name is 'Kira Nerys'\")\n",
    "connection.commit()"
   ]
  },
  {
   "cell_type": "code",
   "execution_count": 37,
   "metadata": {},
   "outputs": [
    {
     "data": {
      "text/plain": [
       "[('Ezri Dax', 'Trill', 300, 'Lieutenant'),\n",
       " ('Benjamin Sisko', 'Human', 40, 'Captain'),\n",
       " ('Kira Nerys', 'Bajoran', 29, 'Major')]"
      ]
     },
     "execution_count": 37,
     "metadata": {},
     "output_type": "execute_result"
    }
   ],
   "source": [
    "#7. **Advanced Query**:\n",
    "data2= cursor.execute(\"SELECT * from Roster order by age desc\")\n",
    "data2.fetchall()"
   ]
  }
 ],
 "metadata": {
  "kernelspec": {
   "display_name": "Python 3",
   "language": "python",
   "name": "python3"
  },
  "language_info": {
   "codemirror_mode": {
    "name": "ipython",
    "version": 3
   },
   "file_extension": ".py",
   "mimetype": "text/x-python",
   "name": "python",
   "nbconvert_exporter": "python",
   "pygments_lexer": "ipython3",
   "version": "3.9.6"
  }
 },
 "nbformat": 4,
 "nbformat_minor": 2
}
