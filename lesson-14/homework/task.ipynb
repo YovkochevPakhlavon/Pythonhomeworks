{
 "cells": [
  {
   "cell_type": "code",
   "execution_count": 24,
   "metadata": {},
   "outputs": [],
   "source": [
    "import numpy as np\n",
    "from PIL import Image"
   ]
  },
  {
   "cell_type": "code",
   "execution_count": 4,
   "metadata": {},
   "outputs": [
    {
     "data": {
      "text/plain": [
       "array([  0.  ,  20.  ,  37.78, 100.  ,  25.  ])"
      ]
     },
     "execution_count": 4,
     "metadata": {},
     "output_type": "execute_result"
    }
   ],
   "source": [
    "#Task 1.\n",
    "F = np.array([32, 68, 100, 212, 77]) #temperature in Fahrenheit\n",
    "@np.vectorize\n",
    "def convert_to_Celsius(vec):\n",
    "    C = (vec - 32) * 5/9\n",
    "    return round(C,2)  #returns temperature in Celsius and rounds to two decimal place.\n",
    "convert_to_Celsius(F)"
   ]
  },
  {
   "cell_type": "code",
   "execution_count": 5,
   "metadata": {},
   "outputs": [
    {
     "data": {
      "text/plain": [
       "array([  2,   9,  64, 625])"
      ]
     },
     "execution_count": 5,
     "metadata": {},
     "output_type": "execute_result"
    }
   ],
   "source": [
    "#Task 2.\n",
    "numbers = np.array([2, 3, 4, 5])\n",
    "powers = np.array([1, 2, 3, 4])\n",
    "@np.vectorize\n",
    "def custom(base,power):\n",
    "    return base ** power #Calculates a power of a number.\n",
    "custom(numbers,powers)"
   ]
  },
  {
   "cell_type": "markdown",
   "metadata": {},
   "source": [
    "#Task 3.\n",
    "$$\n",
    "\\begin{cases}\n",
    "4x + 5y + 6z = 7 \\\\\n",
    "3x - y + z = 4 \\\\\n",
    "2x + y - 2z = 5\n",
    "\\end{cases}\n",
    "$$"
   ]
  },
  {
   "cell_type": "code",
   "execution_count": 21,
   "metadata": {},
   "outputs": [
    {
     "name": "stdout",
     "output_type": "stream",
     "text": [
      "x=1.7027027027027029\n",
      "y=0.6216216216216216\n",
      "z=-0.48648648648648646\n"
     ]
    }
   ],
   "source": [
    "# We need to solve this system of equation. We use matrix method:\n",
    "A = np.array([\n",
    "    [4,5,6],\n",
    "    [3,-1,1],\n",
    "    [2,1,-2]])  #We constract 3x3 matrix of coefficients\n",
    "R = np.array([7,4,5]) #The vector from the constants on the right hand side.\n",
    "solutions = np.linalg.solve(A,R)\n",
    "print(f'x={solutions[0]}')\n",
    "print(f'y={solutions[1]}')\n",
    "print(f'z={solutions[2]}')"
   ]
  },
  {
   "cell_type": "markdown",
   "metadata": {},
   "source": [
    "Task 4. Given the electrical circuit equations below, solve for $I_1, I_2, I_3$ (currents in the branches):\n",
    "\n",
    "$$\n",
    "\\begin{cases}\n",
    "10I_1 - 2I_2 + 3I_3 = 12 \\\\\n",
    "-2I_1 + 8I_2 - I_3 = -5 \\\\\n",
    "3I_1 - I_2 + 6I_3 = 15\n",
    "\\end{cases}\n",
    "$$"
   ]
  },
  {
   "cell_type": "code",
   "execution_count": 23,
   "metadata": {},
   "outputs": [
    {
     "name": "stdout",
     "output_type": "stream",
     "text": [
      "I1=0.49\n",
      "I2=-0.23\n",
      "I3=2.22\n"
     ]
    }
   ],
   "source": [
    "#The working process is the same with task 3. First we need to construct 3x3 matrix using coefficients, and a vector using constants,\n",
    "#finally, we can solve it by using np.linalg.solve()!\n",
    "B = np.array([\n",
    "    [10,-2,3],\n",
    "    [-2,8,-1],\n",
    "    [3,-1,6]])\n",
    "C = np.array([12,-5,15])\n",
    "solutions = np.linalg.solve(B,C)\n",
    "print(f'I1={round(solutions[0],2)}')\n",
    "print(f'I2={round(solutions[1],2)}')\n",
    "print(f'I3={round(solutions[2],2)}') #we can round answer to the given decimal place, for example 2."
   ]
  },
  {
   "cell_type": "markdown",
   "metadata": {},
   "source": [
    "**Image Manipulation with NumPy and PIL**"
   ]
  },
  {
   "cell_type": "code",
   "execution_count": 25,
   "metadata": {},
   "outputs": [],
   "source": [
    "with Image.open('images/birds.jpg') as img:\n",
    "    img_arr = np.array(img)"
   ]
  },
  {
   "cell_type": "code",
   "execution_count": 28,
   "metadata": {},
   "outputs": [],
   "source": [
    "#First let's define a function to save images after converting from an array.\n",
    "def save_img(array, name, mode='RGB'):\n",
    "    img = Image.fromarray(array, mode)\n",
    "    img.save(f'images/{name}.jpg')"
   ]
  },
  {
   "cell_type": "code",
   "execution_count": 35,
   "metadata": {},
   "outputs": [],
   "source": [
    "#1. **Flip the Image**:\n",
    "def flip_image(array):\n",
    "    hor_flip = array[:,::-1,:] #keeps all rows (:) unchanged but reverses the columns (::-1), which perform a horizontal flip.\n",
    "    ver_flip = array[::-1,:,:] #keeps all columns (:) unchanged but reverses the rows (::-1), which perform a vertical flip.\n",
    "    save_img(hor_flip,'horizontally_flip')\n",
    "    save_img(ver_flip,'vertically_flip')\n",
    "flip_image(img_arr)"
   ]
  },
  {
   "cell_type": "code",
   "execution_count": null,
   "metadata": {},
   "outputs": [],
   "source": [
    "#2. **Add Random Noise**:\n",
    "def add_noise(array):\n",
    "    noise = np.random.randint(0,50,array.shape, dtype=np.uint8)\n",
    "    noisy_image = array + noise\n",
    "    noisy_image = np.where(noisy_image > 255, 255, noisy_image)  # Set max 255\n",
    "    noisy_image = np.where(noisy_image < 0, 0, noisy_image)  # Set min 0\n",
    "    noisy_image = noisy_image.astype(np.uint8)\n",
    "    return noisy_image\n",
    "save_img(add_noise(img_arr),'noisy_image')"
   ]
  },
  {
   "cell_type": "code",
   "execution_count": null,
   "metadata": {},
   "outputs": [],
   "source": [
    "#3. **Brighten Channels**:\n",
    "def brighten_channels(array,red=False,green=False,blue=False,value=0):\n",
    "    # First, we need to create a zero matrix with the same shape as the input array\n",
    "    zero_value = np.zeros_like(array, dtype=np.uint8)\n",
    "    # Add brightness to selected channels\n",
    "    if red:\n",
    "        zero_value[:, :, 0] = value  # Modify only the red channel\n",
    "    if green:\n",
    "        zero_value[:, :, 1] = value  # Modify only the green channel\n",
    "    if blue:\n",
    "        zero_value[:, :, 2] = value  # Modify only the blue channel\n",
    "\n",
    "    # Add the brightness values and clip to keep within [0, 255]\n",
    "    brightened_array = np.clip(array + zero_value, 0, 255).astype(np.uint8)\n",
    "    return brightened_array\n",
    "save_img(brighten_channels(img_arr,True,40),'brightened_image')"
   ]
  },
  {
   "cell_type": "code",
   "execution_count": 67,
   "metadata": {},
   "outputs": [],
   "source": [
    "#4. **Apply a Mask**:\n",
    "def apply_mask(array, area):\n",
    "    # Finding the center of the image\n",
    "    hc = array.shape[0] // 2  # Vertical center (Height)\n",
    "    vc = array.shape[1] // 2  # Horizontal center (Width)\n",
    "    # Defining the mask region \n",
    "    x1 = max(0, hc - area // 2)\n",
    "    x2 = min(array.shape[0], hc + area // 2)\n",
    "    y1 = max(0, vc - area // 2)\n",
    "    y2 = min(array.shape[1], vc + area // 2)\n",
    "    # Applying the mask by setting pixel values to 0 (black)\n",
    "    array[x1:x2, y1:y2, :] = 0\n",
    "    return array\n",
    "\n",
    "save_img(apply_mask(img_arr,100),'masked_image')"
   ]
  },
  {
   "cell_type": "code",
   "execution_count": null,
   "metadata": {},
   "outputs": [],
   "source": []
  }
 ],
 "metadata": {
  "kernelspec": {
   "display_name": "base",
   "language": "python",
   "name": "python3"
  },
  "language_info": {
   "codemirror_mode": {
    "name": "ipython",
    "version": 3
   },
   "file_extension": ".py",
   "mimetype": "text/x-python",
   "name": "python",
   "nbconvert_exporter": "python",
   "pygments_lexer": "ipython3",
   "version": "3.11.5"
  }
 },
 "nbformat": 4,
 "nbformat_minor": 2
}
